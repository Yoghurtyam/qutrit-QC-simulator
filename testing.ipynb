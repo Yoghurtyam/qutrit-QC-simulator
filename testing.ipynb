{
 "cells": [
  {
   "cell_type": "markdown",
   "metadata": {},
   "source": [
    "## Testing with a single qubit "
   ]
  },
  {
   "cell_type": "code",
   "execution_count": 15,
   "metadata": {},
   "outputs": [],
   "source": [
    "from sympy import *"
   ]
  },
  {
   "cell_type": "code",
   "execution_count": 16,
   "metadata": {},
   "outputs": [],
   "source": [
    "x, y , z, a, b, c = symbols('x y z a b c')"
   ]
  },
  {
   "cell_type": "code",
   "execution_count": 17,
   "metadata": {},
   "outputs": [
    {
     "data": {
      "text/latex": [
       "$\\displaystyle x + 1$"
      ],
      "text/plain": [
       "x + 1"
      ]
     },
     "execution_count": 17,
     "metadata": {},
     "output_type": "execute_result"
    }
   ],
   "source": [
    "x + 1"
   ]
  },
  {
   "cell_type": "code",
   "execution_count": 18,
   "metadata": {},
   "outputs": [
    {
     "data": {
      "text/latex": [
       "$\\displaystyle \\left[\\begin{matrix}\\frac{\\sqrt{2} \\left(\\frac{\\sqrt{3} \\sin{\\left(x \\right)}}{3} + 0.333333333333333 \\cos{\\left(x \\right)} + 0.666666666666667\\right)}{2}\\\\\\frac{\\sqrt{2} \\left(- \\frac{\\sqrt{3} \\sin{\\left(x \\right)}}{3} + \\cos{\\left(x \\right)}\\right)}{2}\\\\- \\frac{\\sqrt{3} \\sin{\\left(x \\right)}}{3} - \\frac{\\cos{\\left(x \\right)}}{3} + 0.333333333333333\\end{matrix}\\right]$"
      ],
      "text/plain": [
       "Matrix([\n",
       "[sqrt(2)*(sqrt(3)*sin(x)/3 + 0.333333333333333*cos(x) + 0.666666666666667)/2],\n",
       "[                                     sqrt(2)*(-sqrt(3)*sin(x)/3 + cos(x))/2],\n",
       "[                           -sqrt(3)*sin(x)/3 - cos(x)/3 + 0.333333333333333]])"
      ]
     },
     "execution_count": 18,
     "metadata": {},
     "output_type": "execute_result"
    }
   ],
   "source": [
    "feature_map = Matrix([((1/3)*cos(x) + 2/3 + (sin(x)/sqrt(3)))/sqrt(2), (cos(x) - (sin(x)/sqrt(3)))/sqrt(2), -cos(x)/3 + 1/3 - sin(x)/sqrt(3)] )\n",
    "feature_map"
   ]
  },
  {
   "cell_type": "markdown",
   "metadata": {},
   "source": [
    "## Initializing matrices we require\n",
    "\n",
    "### X, Y, Z, W matrices"
   ]
  },
  {
   "cell_type": "code",
   "execution_count": 19,
   "metadata": {},
   "outputs": [
    {
     "data": {
      "text/latex": [
       "$\\displaystyle \\left[\\begin{matrix}\\frac{2 \\cos{\\left(y \\right)}}{3} + 0.333333333333333 & \\frac{\\sqrt{3} \\sin{\\left(y \\right)}}{3} - \\frac{\\cos{\\left(y \\right)}}{3} + 0.333333333333333 & - \\frac{\\sqrt{3} \\sin{\\left(y \\right)}}{3} - \\frac{\\cos{\\left(y \\right)}}{3} + 0.333333333333333\\\\- \\frac{\\sqrt{3} \\sin{\\left(y \\right)}}{3} - \\frac{\\cos{\\left(y \\right)}}{3} + 0.333333333333333 & \\frac{2 \\cos{\\left(y \\right)}}{3} + 0.333333333333333 & \\frac{\\sqrt{3} \\sin{\\left(y \\right)}}{3} - \\frac{\\cos{\\left(y \\right)}}{3} + 0.333333333333333\\\\\\frac{\\sqrt{3} \\sin{\\left(y \\right)}}{3} - \\frac{\\cos{\\left(y \\right)}}{3} + 0.333333333333333 & - \\frac{\\sqrt{3} \\sin{\\left(y \\right)}}{3} - \\frac{\\cos{\\left(y \\right)}}{3} + 0.333333333333333 & \\frac{2 \\cos{\\left(y \\right)}}{3} + 0.333333333333333\\end{matrix}\\right]$"
      ],
      "text/plain": [
       "Matrix([\n",
       "[                  2*cos(y)/3 + 0.333333333333333,  sqrt(3)*sin(y)/3 - cos(y)/3 + 0.333333333333333, -sqrt(3)*sin(y)/3 - cos(y)/3 + 0.333333333333333],\n",
       "[-sqrt(3)*sin(y)/3 - cos(y)/3 + 0.333333333333333,                   2*cos(y)/3 + 0.333333333333333,  sqrt(3)*sin(y)/3 - cos(y)/3 + 0.333333333333333],\n",
       "[ sqrt(3)*sin(y)/3 - cos(y)/3 + 0.333333333333333, -sqrt(3)*sin(y)/3 - cos(y)/3 + 0.333333333333333,                   2*cos(y)/3 + 0.333333333333333]])"
      ]
     },
     "execution_count": 19,
     "metadata": {},
     "output_type": "execute_result"
    }
   ],
   "source": [
    "x_matrix = Matrix([[2*cos(y)/3 + 1/3, 1/3 - cos(y)/3 + sin(y)/sqrt(3), 1/3 - cos(y)/3 -  sin(y)/sqrt(3)], \n",
    "                       [1/3 - cos(y)/3 -  sin(y)/sqrt(3), 2*cos(y)/3 + 1/3, 1/3 - cos(y)/3 + sin(y)/sqrt(3)], \n",
    "                       [1/3 - cos(y)/3 + sin(y)/sqrt(3), 1/3 - cos(y)/3 - sin(y)/sqrt(3), 2*cos(y)/3 + 1/3]])\n",
    "x_matrix"
   ]
  },
  {
   "cell_type": "code",
   "execution_count": 20,
   "metadata": {},
   "outputs": [],
   "source": [
    "# replace with Y theta, Z theta\n",
    "# \n",
    "y_matrix = Matrix([[2*cos(y)/3 - 1/3, -1/3 - cos(y)/3 + sin(y)/sqrt(3), -1/3 - cos(y)/3 -  sin(y)/sqrt(3)], \n",
    "                       [-1/3 - cos(y)/3 -  sin(y)/sqrt(3), 2*cos(y)/3 - 1/3, -1/3 - cos(y)/3 + sin(y)/sqrt(3)], \n",
    "                       [-1/3 - cos(y)/3 + sin(y)/sqrt(3), -1/3 - cos(y)/3 - sin(y)/sqrt(3), 2*cos(y)/3 + -1/3]])"
   ]
  },
  {
   "cell_type": "code",
   "execution_count": 21,
   "metadata": {},
   "outputs": [],
   "source": [
    "z_matrix = Matrix([[2*cos(y)/3 + 1/3, 1/3 - cos(y)/3 + sin(y)/sqrt(3), 1/3 - cos(y)/3 -  sin(y)/sqrt(3)], \n",
    "                   [1/3 - cos(y)/3 + sin(y)/sqrt(3), 1/3 - cos(y)/3 - sin(y)/sqrt(3), 2*cos(y)/3 + 1/3],\n",
    "                   [1/3 - cos(y)/3 -  sin(y)/sqrt(3), 2*cos(y)/3 + 1/3, 1/3 - cos(y)/3 + sin(y)/sqrt(3)]])"
   ]
  },
  {
   "cell_type": "code",
   "execution_count": 22,
   "metadata": {},
   "outputs": [],
   "source": [
    "w_matrix = Matrix([[2*cos(y)/3 - 1/3, -1/3 - cos(y)/3 + sin(y)/sqrt(3), -1/3 - cos(y)/3 -  sin(y)/sqrt(3)], \n",
    "                       [-1/3 - cos(y)/3 + sin(y)/sqrt(3), -1/3 - cos(y)/3 - sin(y)/sqrt(3), 2*cos(y)/3 + -1/3],\n",
    "                       [-1/3 - cos(y)/3 -  sin(y)/sqrt(3), 2*cos(y)/3 - 1/3, -1/3 - cos(y)/3 + sin(y)/sqrt(3)]])"
   ]
  },
  {
   "cell_type": "markdown",
   "metadata": {},
   "source": [
    "### Qubit Hadamard gate acting on a qutrit"
   ]
  },
  {
   "cell_type": "code",
   "execution_count": 23,
   "metadata": {},
   "outputs": [
    {
     "data": {
      "text/latex": [
       "$\\displaystyle \\left[\\begin{matrix}\\frac{\\sqrt{2}}{2} & \\frac{\\sqrt{2}}{2} & 0\\\\\\frac{\\sqrt{2}}{2} & - \\frac{\\sqrt{2}}{2} & 0\\\\0 & 0 & 1\\end{matrix}\\right]$"
      ],
      "text/plain": [
       "Matrix([\n",
       "[sqrt(2)/2,  sqrt(2)/2, 0],\n",
       "[sqrt(2)/2, -sqrt(2)/2, 0],\n",
       "[        0,          0, 1]])"
      ]
     },
     "execution_count": 23,
     "metadata": {},
     "output_type": "execute_result"
    }
   ],
   "source": [
    "qutrit_h = Matrix([[1, 1, 0], [1, -1, 0], [0, 0, 0]])\n",
    "qutrit_h = (1/sqrt(2))*qutrit_h + Matrix([[0, 0, 0],[0, 0, 0],[0, 0, 1]])\n",
    "qutrit_h"
   ]
  },
  {
   "cell_type": "code",
   "execution_count": 66,
   "metadata": {},
   "outputs": [
    {
     "data": {
      "text/latex": [
       "$\\displaystyle \\left[\\begin{matrix}\\frac{\\sqrt{2}}{2} & \\frac{\\sqrt{2}}{2}\\\\\\frac{\\sqrt{2}}{2} & - \\frac{\\sqrt{2}}{2}\\end{matrix}\\right]$"
      ],
      "text/plain": [
       "Matrix([\n",
       "[sqrt(2)/2,  sqrt(2)/2],\n",
       "[sqrt(2)/2, -sqrt(2)/2]])"
      ]
     },
     "execution_count": 66,
     "metadata": {},
     "output_type": "execute_result"
    }
   ],
   "source": [
    "qubit_h = (1/sqrt(2))*Matrix([[1, 1], [1, -1]])\n",
    "qubit_h"
   ]
  },
  {
   "cell_type": "code",
   "execution_count": 25,
   "metadata": {},
   "outputs": [
    {
     "data": {
      "text/latex": [
       "$\\displaystyle \\left[\\begin{matrix}1 & 0\\\\0 & e^{i y}\\end{matrix}\\right]$"
      ],
      "text/plain": [
       "Matrix([\n",
       "[1,        0],\n",
       "[0, exp(I*y)]])"
      ]
     },
     "execution_count": 25,
     "metadata": {},
     "output_type": "execute_result"
    }
   ],
   "source": [
    "u1 = Matrix([[1,0],[0, exp(I*y)]])\n",
    "u1"
   ]
  },
  {
   "cell_type": "code",
   "execution_count": 89,
   "metadata": {},
   "outputs": [
    {
     "data": {
      "text/latex": [
       "$\\displaystyle \\left[\\begin{matrix}\\cos{\\left(\\frac{y}{2} \\right)} & - \\sin{\\left(\\frac{y}{2} \\right)}\\\\\\sin{\\left(\\frac{y}{2} \\right)} & \\cos{\\left(\\frac{y}{2} \\right)}\\end{matrix}\\right]$"
      ],
      "text/plain": [
       "Matrix([\n",
       "[cos(y/2), -sin(y/2)],\n",
       "[sin(y/2),  cos(y/2)]])"
      ]
     },
     "execution_count": 89,
     "metadata": {},
     "output_type": "execute_result"
    }
   ],
   "source": [
    "ry = Matrix([[cos(y/2), -sin(y/2)],[sin(y/2), cos(y/2)]])\n",
    "ry"
   ]
  },
  {
   "cell_type": "code",
   "execution_count": 26,
   "metadata": {},
   "outputs": [
    {
     "data": {
      "text/latex": [
       "$\\displaystyle \\left[\\begin{matrix}-0.333333333333333 & 0.666666666666667 & 0.666666666666667\\\\0.666666666666667 & -0.333333333333333 & 0.666666666666667\\\\0.666666666666667 & 0.666666666666667 & -0.333333333333333\\end{matrix}\\right]$"
      ],
      "text/plain": [
       "Matrix([\n",
       "[-0.333333333333333,  0.666666666666667,  0.666666666666667],\n",
       "[ 0.666666666666667, -0.333333333333333,  0.666666666666667],\n",
       "[ 0.666666666666667,  0.666666666666667, -0.333333333333333]])"
      ]
     },
     "execution_count": 26,
     "metadata": {},
     "output_type": "execute_result"
    }
   ],
   "source": [
    "# use standard grover matrix 3*3 in place of hadamard matrix. \n",
    "# optimize y value such that probability of one state tends to zero. \n",
    "# \n",
    "qutrit_grover = 1/3*Matrix([[-1, 2, 2], [2, -1, 2], [2, 2, -1]])\n",
    "qutrit_grover"
   ]
  },
  {
   "cell_type": "markdown",
   "metadata": {},
   "source": [
    "### Init state"
   ]
  },
  {
   "cell_type": "code",
   "execution_count": 27,
   "metadata": {},
   "outputs": [],
   "source": [
    "init_state = Matrix([1, 0, 0])"
   ]
  },
  {
   "cell_type": "code",
   "execution_count": 56,
   "metadata": {},
   "outputs": [],
   "source": [
    "init_state_qubit = Matrix([1,0])"
   ]
  },
  {
   "cell_type": "markdown",
   "metadata": {},
   "source": [
    "## The whole circuit for a single qubit "
   ]
  },
  {
   "cell_type": "markdown",
   "metadata": {},
   "source": [
    "### Circuit and output state when hadamard is used "
   ]
  },
  {
   "cell_type": "code",
   "execution_count": 28,
   "metadata": {},
   "outputs": [
    {
     "data": {
      "text/latex": [
       "$\\displaystyle \\left[\\begin{matrix}0.333333333333333 \\sin{\\left(x \\right)} \\sin{\\left(y \\right)} - 0.111111111111111 \\sqrt{3} \\sin{\\left(y \\right)} \\cos{\\left(x \\right)} + 0.222222222222222 \\sqrt{2} \\sin{\\left(x + \\frac{\\pi}{6} \\right)} \\cos{\\left(y \\right)} - 0.222222222222222 \\sqrt{2} \\sin{\\left(x + \\frac{\\pi}{6} \\right)} + 0.222222222222222 \\sin{\\left(y + \\frac{\\pi}{6} \\right)} + 0.222222222222222 \\cos{\\left(x \\right)} \\cos{\\left(y \\right)} + 0.444444444444444 \\cos{\\left(x \\right)} - 0.111111111111111 \\sqrt{2} \\cos{\\left(y \\right)} + 0.111111111111111 \\sqrt{2} + 0.222222222222222 & - 0.333333333333333 \\sqrt{2} \\sin{\\left(x \\right)} \\sin{\\left(y \\right)} - 0.222222222222222 \\sqrt{3} \\sin{\\left(y \\right)} \\cos{\\left(x \\right)} - 0.111111111111111 \\sqrt{6} \\sin{\\left(y \\right)} \\cos{\\left(x \\right)} - 0.111111111111111 \\sqrt{3} \\sin{\\left(y \\right)} + 0.111111111111111 \\sqrt{6} \\sin{\\left(y \\right)} - 0.666666666666667 \\cos{\\left(y \\right)} \\cos{\\left(x + \\frac{\\pi}{3} \\right)} + 0.333333333333333 \\cos{\\left(y \\right)} & - 0.111111111111111 \\sqrt{2} \\left(\\sin{\\left(x + \\frac{\\pi}{6} \\right)} + 1\\right) \\left(2.0 \\sin{\\left(y + \\frac{\\pi}{6} \\right)} - 1.0\\right) - \\frac{\\left(2.0 \\sin{\\left(x + \\frac{\\pi}{6} \\right)} - 1.0\\right) \\left(2 \\cos{\\left(y \\right)} + 1.0\\right)}{9} - \\frac{\\sqrt{6} \\left(2.0 \\cos{\\left(y + \\frac{\\pi}{3} \\right)} - 1.0\\right) \\cos{\\left(x + \\frac{\\pi}{6} \\right)}}{9}\\\\0.222222222222222 \\sqrt{3} \\sin{\\left(y \\right)} \\cos{\\left(x \\right)} - 0.222222222222222 \\sin{\\left(x + \\frac{\\pi}{6} \\right)} \\cos{\\left(y \\right)} - 0.444444444444444 \\sin{\\left(x + \\frac{\\pi}{6} \\right)} + 0.222222222222222 \\sin{\\left(y + \\frac{\\pi}{6} \\right)} + 0.222222222222222 \\sqrt{2} \\cos{\\left(y \\right)} \\cos{\\left(x + \\frac{\\pi}{3} \\right)} - 0.111111111111111 \\sqrt{2} \\cos{\\left(y \\right)} - 0.222222222222222 \\sqrt{2} \\cos{\\left(x + \\frac{\\pi}{3} \\right)} + 0.111111111111111 \\sqrt{2} + 0.222222222222222 & 0.333333333333333 \\sin{\\left(x \\right)} \\sin{\\left(y \\right)} + 0.333333333333333 \\sqrt{2} \\sin{\\left(x \\right)} \\sin{\\left(y \\right)} - 0.111111111111111 \\sqrt{6} \\sin{\\left(y \\right)} \\cos{\\left(x \\right)} + 0.111111111111111 \\sqrt{3} \\sin{\\left(y \\right)} \\cos{\\left(x \\right)} - 0.111111111111111 \\sqrt{3} \\sin{\\left(y \\right)} + 0.111111111111111 \\sqrt{6} \\sin{\\left(y \\right)} + 0.666666666666667 \\cos{\\left(x \\right)} \\cos{\\left(y \\right)} + 0.333333333333333 \\cos{\\left(y \\right)} & - 0.111111111111111 \\sqrt{2} \\left(2.0 \\sin{\\left(y + \\frac{\\pi}{6} \\right)} - 1.0\\right) \\left(\\cos{\\left(x + \\frac{\\pi}{3} \\right)} + 1\\right) - \\frac{\\left(2 \\cos{\\left(y \\right)} + 1.0\\right) \\left(2.0 \\cos{\\left(x + \\frac{\\pi}{3} \\right)} - 1.0\\right)}{9} + \\frac{\\sqrt{6} \\left(2.0 \\cos{\\left(y + \\frac{\\pi}{3} \\right)} - 1.0\\right) \\sin{\\left(x + \\frac{\\pi}{3} \\right)}}{9}\\\\- 0.333333333333333 \\sin{\\left(x \\right)} \\sin{\\left(y \\right)} - 0.111111111111111 \\sqrt{3} \\sin{\\left(y \\right)} \\cos{\\left(x \\right)} + 0.222222222222222 \\sin{\\left(y + \\frac{\\pi}{6} \\right)} - 0.222222222222222 \\sqrt{2} \\cos{\\left(x \\right)} \\cos{\\left(y \\right)} + 0.222222222222222 \\sqrt{2} \\cos{\\left(x \\right)} - 0.222222222222222 \\cos{\\left(y \\right)} \\cos{\\left(x + \\frac{\\pi}{3} \\right)} - 0.111111111111111 \\sqrt{2} \\cos{\\left(y \\right)} - 0.444444444444444 \\cos{\\left(x + \\frac{\\pi}{3} \\right)} + 0.111111111111111 \\sqrt{2} + 0.222222222222222 & - 0.333333333333333 \\sqrt{3} \\sin{\\left(x \\right)} \\cos{\\left(y \\right)} + 0.111111111111111 \\sqrt{3} \\sin{\\left(y \\right)} \\cos{\\left(x \\right)} + 0.222222222222222 \\sqrt{6} \\sin{\\left(y \\right)} \\cos{\\left(x \\right)} - 0.111111111111111 \\sqrt{3} \\sin{\\left(y \\right)} + 0.111111111111111 \\sqrt{6} \\sin{\\left(y \\right)} + 0.333333333333333 \\cos{\\left(y \\right)} - 0.333333333333333 \\cos{\\left(x - y \\right)} & \\frac{\\sqrt{6} \\left(1.0 - 2.0 \\cos{\\left(y + \\frac{\\pi}{3} \\right)}\\right) \\sin{\\left(x \\right)}}{9} - \\frac{\\sqrt{2} \\left(2.0 - 2 \\cos{\\left(x \\right)}\\right) \\left(2.0 \\sin{\\left(y + \\frac{\\pi}{6} \\right)} - 1.0\\right)}{18} + \\frac{\\left(2 \\cos{\\left(x \\right)} + 1.0\\right) \\left(2 \\cos{\\left(y \\right)} + 1.0\\right)}{9}\\end{matrix}\\right]$"
      ],
      "text/plain": [
       "Matrix([\n",
       "[ 0.333333333333333*sin(x)*sin(y) - 0.111111111111111*sqrt(3)*sin(y)*cos(x) + 0.222222222222222*sqrt(2)*sin(x + pi/6)*cos(y) - 0.222222222222222*sqrt(2)*sin(x + pi/6) + 0.222222222222222*sin(y + pi/6) + 0.222222222222222*cos(x)*cos(y) + 0.444444444444444*cos(x) - 0.111111111111111*sqrt(2)*cos(y) + 0.111111111111111*sqrt(2) + 0.222222222222222,                           -0.333333333333333*sqrt(2)*sin(x)*sin(y) - 0.222222222222222*sqrt(3)*sin(y)*cos(x) - 0.111111111111111*sqrt(6)*sin(y)*cos(x) - 0.111111111111111*sqrt(3)*sin(y) + 0.111111111111111*sqrt(6)*sin(y) - 0.666666666666667*cos(y)*cos(x + pi/3) + 0.333333333333333*cos(y), -0.111111111111111*sqrt(2)*(sin(x + pi/6) + 1)*(2.0*sin(y + pi/6) - 1.0) - (2.0*sin(x + pi/6) - 1.0)*(2*cos(y) + 1.0)/9 - sqrt(6)*(2.0*cos(y + pi/3) - 1.0)*cos(x + pi/6)/9],\n",
       "[                     0.222222222222222*sqrt(3)*sin(y)*cos(x) - 0.222222222222222*sin(x + pi/6)*cos(y) - 0.444444444444444*sin(x + pi/6) + 0.222222222222222*sin(y + pi/6) + 0.222222222222222*sqrt(2)*cos(y)*cos(x + pi/3) - 0.111111111111111*sqrt(2)*cos(y) - 0.222222222222222*sqrt(2)*cos(x + pi/3) + 0.111111111111111*sqrt(2) + 0.222222222222222, 0.333333333333333*sin(x)*sin(y) + 0.333333333333333*sqrt(2)*sin(x)*sin(y) - 0.111111111111111*sqrt(6)*sin(y)*cos(x) + 0.111111111111111*sqrt(3)*sin(y)*cos(x) - 0.111111111111111*sqrt(3)*sin(y) + 0.111111111111111*sqrt(6)*sin(y) + 0.666666666666667*cos(x)*cos(y) + 0.333333333333333*cos(y), -0.111111111111111*sqrt(2)*(2.0*sin(y + pi/6) - 1.0)*(cos(x + pi/3) + 1) - (2*cos(y) + 1.0)*(2.0*cos(x + pi/3) - 1.0)/9 + sqrt(6)*(2.0*cos(y + pi/3) - 1.0)*sin(x + pi/3)/9],\n",
       "[-0.333333333333333*sin(x)*sin(y) - 0.111111111111111*sqrt(3)*sin(y)*cos(x) + 0.222222222222222*sin(y + pi/6) - 0.222222222222222*sqrt(2)*cos(x)*cos(y) + 0.222222222222222*sqrt(2)*cos(x) - 0.222222222222222*cos(y)*cos(x + pi/3) - 0.111111111111111*sqrt(2)*cos(y) - 0.444444444444444*cos(x + pi/3) + 0.111111111111111*sqrt(2) + 0.222222222222222,                                     -0.333333333333333*sqrt(3)*sin(x)*cos(y) + 0.111111111111111*sqrt(3)*sin(y)*cos(x) + 0.222222222222222*sqrt(6)*sin(y)*cos(x) - 0.111111111111111*sqrt(3)*sin(y) + 0.111111111111111*sqrt(6)*sin(y) + 0.333333333333333*cos(y) - 0.333333333333333*cos(x - y),                                    sqrt(6)*(1.0 - 2.0*cos(y + pi/3))*sin(x)/9 - sqrt(2)*(2.0 - 2*cos(x))*(2.0*sin(y + pi/6) - 1.0)/18 + (2*cos(x) + 1.0)*(2*cos(y) + 1.0)/9]])"
      ]
     },
     "execution_count": 28,
     "metadata": {},
     "output_type": "execute_result"
    }
   ],
   "source": [
    "# circuit with hadamard \n",
    "qc = simplify((x_matrix*qutrit_h).subs(y,x)*x_matrix*qutrit_h)\n",
    "qc\n",
    "# y denotes data, x denotes value of parameter"
   ]
  },
  {
   "cell_type": "code",
   "execution_count": 29,
   "metadata": {},
   "outputs": [
    {
     "data": {
      "text/latex": [
       "$\\displaystyle \\left[\\begin{matrix}0.333333333333333 \\sin{\\left(x \\right)} \\sin{\\left(y \\right)} - 0.111111111111111 \\sqrt{3} \\sin{\\left(y \\right)} \\cos{\\left(x \\right)} + 0.222222222222222 \\sqrt{2} \\sin{\\left(x + \\frac{\\pi}{6} \\right)} \\cos{\\left(y \\right)} - 0.222222222222222 \\sqrt{2} \\sin{\\left(x + \\frac{\\pi}{6} \\right)} + 0.222222222222222 \\sin{\\left(y + \\frac{\\pi}{6} \\right)} + 0.222222222222222 \\cos{\\left(x \\right)} \\cos{\\left(y \\right)} + 0.444444444444444 \\cos{\\left(x \\right)} - 0.111111111111111 \\sqrt{2} \\cos{\\left(y \\right)} + 0.111111111111111 \\sqrt{2} + 0.222222222222222\\\\0.222222222222222 \\sqrt{3} \\sin{\\left(y \\right)} \\cos{\\left(x \\right)} - 0.222222222222222 \\sin{\\left(x + \\frac{\\pi}{6} \\right)} \\cos{\\left(y \\right)} - 0.444444444444444 \\sin{\\left(x + \\frac{\\pi}{6} \\right)} + 0.222222222222222 \\sin{\\left(y + \\frac{\\pi}{6} \\right)} + 0.222222222222222 \\sqrt{2} \\cos{\\left(y \\right)} \\cos{\\left(x + \\frac{\\pi}{3} \\right)} - 0.111111111111111 \\sqrt{2} \\cos{\\left(y \\right)} - 0.222222222222222 \\sqrt{2} \\cos{\\left(x + \\frac{\\pi}{3} \\right)} + 0.111111111111111 \\sqrt{2} + 0.222222222222222\\\\- 0.333333333333333 \\sin{\\left(x \\right)} \\sin{\\left(y \\right)} - 0.111111111111111 \\sqrt{3} \\sin{\\left(y \\right)} \\cos{\\left(x \\right)} + 0.222222222222222 \\sin{\\left(y + \\frac{\\pi}{6} \\right)} - 0.222222222222222 \\sqrt{2} \\cos{\\left(x \\right)} \\cos{\\left(y \\right)} + 0.222222222222222 \\sqrt{2} \\cos{\\left(x \\right)} - 0.222222222222222 \\cos{\\left(y \\right)} \\cos{\\left(x + \\frac{\\pi}{3} \\right)} - 0.111111111111111 \\sqrt{2} \\cos{\\left(y \\right)} - 0.444444444444444 \\cos{\\left(x + \\frac{\\pi}{3} \\right)} + 0.111111111111111 \\sqrt{2} + 0.222222222222222\\end{matrix}\\right]$"
      ],
      "text/plain": [
       "Matrix([\n",
       "[ 0.333333333333333*sin(x)*sin(y) - 0.111111111111111*sqrt(3)*sin(y)*cos(x) + 0.222222222222222*sqrt(2)*sin(x + pi/6)*cos(y) - 0.222222222222222*sqrt(2)*sin(x + pi/6) + 0.222222222222222*sin(y + pi/6) + 0.222222222222222*cos(x)*cos(y) + 0.444444444444444*cos(x) - 0.111111111111111*sqrt(2)*cos(y) + 0.111111111111111*sqrt(2) + 0.222222222222222],\n",
       "[                     0.222222222222222*sqrt(3)*sin(y)*cos(x) - 0.222222222222222*sin(x + pi/6)*cos(y) - 0.444444444444444*sin(x + pi/6) + 0.222222222222222*sin(y + pi/6) + 0.222222222222222*sqrt(2)*cos(y)*cos(x + pi/3) - 0.111111111111111*sqrt(2)*cos(y) - 0.222222222222222*sqrt(2)*cos(x + pi/3) + 0.111111111111111*sqrt(2) + 0.222222222222222],\n",
       "[-0.333333333333333*sin(x)*sin(y) - 0.111111111111111*sqrt(3)*sin(y)*cos(x) + 0.222222222222222*sin(y + pi/6) - 0.222222222222222*sqrt(2)*cos(x)*cos(y) + 0.222222222222222*sqrt(2)*cos(x) - 0.222222222222222*cos(y)*cos(x + pi/3) - 0.111111111111111*sqrt(2)*cos(y) - 0.444444444444444*cos(x + pi/3) + 0.111111111111111*sqrt(2) + 0.222222222222222]])"
      ]
     },
     "execution_count": 29,
     "metadata": {},
     "output_type": "execute_result"
    }
   ],
   "source": [
    "#final state with hadamard\n",
    "qc*init_state"
   ]
  },
  {
   "cell_type": "markdown",
   "metadata": {},
   "source": [
    "### Circuit and output state when grover coin matrix x is used "
   ]
  },
  {
   "cell_type": "code",
   "execution_count": 30,
   "metadata": {},
   "outputs": [
    {
     "data": {
      "text/latex": [
       "$\\displaystyle \\left[\\begin{matrix}0.666666666666667 \\cos{\\left(x + y \\right)} + 0.333333333333333 & 1.38777878078145 \\cdot 10^{-17} \\cos{\\left(x \\right)} - 0.666666666666667 \\cos{\\left(x + y + \\frac{\\pi}{3} \\right)} + 0.333333333333333 & - 0.666666666666667 \\sin{\\left(x + y + \\frac{\\pi}{6} \\right)} + 1.38777878078145 \\cdot 10^{-17} \\cos{\\left(x \\right)} + 0.333333333333333\\\\- 0.666666666666667 \\sin{\\left(x + y + \\frac{\\pi}{6} \\right)} + 1.38777878078145 \\cdot 10^{-17} \\cos{\\left(x \\right)} + 0.333333333333333 & - 1.38777878078145 \\cdot 10^{-17} \\sqrt{3} \\sin{\\left(y \\right)} \\cos{\\left(x \\right)} + 1.38777878078145 \\cdot 10^{-17} \\cos{\\left(x \\right)} + 0.666666666666667 \\cos{\\left(x + y \\right)} + 0.333333333333333 & 0.333333333333333 - 0.666666666666667 \\cos{\\left(x + y + \\frac{\\pi}{3} \\right)}\\\\0.333333333333333 - 0.666666666666667 \\cos{\\left(x + y + \\frac{\\pi}{3} \\right)} & 0.333333333333333 - 0.666666666666667 \\sin{\\left(x + y + \\frac{\\pi}{6} \\right)} & 0.666666666666667 \\cos{\\left(x + y \\right)} + 0.333333333333333\\end{matrix}\\right]$"
      ],
      "text/plain": [
       "Matrix([\n",
       "[                                      0.666666666666667*cos(x + y) + 0.333333333333333,                                        1.38777878078145e-17*cos(x) - 0.666666666666667*cos(x + y + pi/3) + 0.333333333333333, -0.666666666666667*sin(x + y + pi/6) + 1.38777878078145e-17*cos(x) + 0.333333333333333],\n",
       "[-0.666666666666667*sin(x + y + pi/6) + 1.38777878078145e-17*cos(x) + 0.333333333333333, -1.38777878078145e-17*sqrt(3)*sin(y)*cos(x) + 1.38777878078145e-17*cos(x) + 0.666666666666667*cos(x + y) + 0.333333333333333,                                0.333333333333333 - 0.666666666666667*cos(x + y + pi/3)],\n",
       "[                               0.333333333333333 - 0.666666666666667*cos(x + y + pi/3),                                                                      0.333333333333333 - 0.666666666666667*sin(x + y + pi/6),                                       0.666666666666667*cos(x + y) + 0.333333333333333]])"
      ]
     },
     "execution_count": 30,
     "metadata": {},
     "output_type": "execute_result"
    }
   ],
   "source": [
    "# circuit with grover coin matrix\n",
    "qc_ = simplify((x_matrix*qutrit_grover).subs(y,x)*x_matrix*qutrit_grover)\n",
    "qc_"
   ]
  },
  {
   "cell_type": "code",
   "execution_count": 31,
   "metadata": {},
   "outputs": [
    {
     "data": {
      "text/latex": [
       "$\\displaystyle \\left[\\begin{matrix}0.666666666666667 \\cos{\\left(x + y \\right)} + 0.333333333333333\\\\- 0.666666666666667 \\sin{\\left(x + y + \\frac{\\pi}{6} \\right)} + 1.38777878078145 \\cdot 10^{-17} \\cos{\\left(x \\right)} + 0.333333333333333\\\\0.333333333333333 - 0.666666666666667 \\cos{\\left(x + y + \\frac{\\pi}{3} \\right)}\\end{matrix}\\right]$"
      ],
      "text/plain": [
       "Matrix([\n",
       "[                                      0.666666666666667*cos(x + y) + 0.333333333333333],\n",
       "[-0.666666666666667*sin(x + y + pi/6) + 1.38777878078145e-17*cos(x) + 0.333333333333333],\n",
       "[                               0.333333333333333 - 0.666666666666667*cos(x + y + pi/3)]])"
      ]
     },
     "execution_count": 31,
     "metadata": {},
     "output_type": "execute_result"
    }
   ],
   "source": [
    "output = qc_*init_state\n",
    "output\n",
    "\n",
    "# use a qubit and this becomes qutrit. THen apply a control gate from the qutrit to the qubit. then measure qubit. \n",
    "# intro (define the problem), literature survey\n",
    "# preliminary results \n",
    "# references "
   ]
  },
  {
   "cell_type": "markdown",
   "metadata": {},
   "source": [
    "### Circuit and output state when grover coin matrix y is used "
   ]
  },
  {
   "cell_type": "code",
   "execution_count": 32,
   "metadata": {},
   "outputs": [
    {
     "data": {
      "text/latex": [
       "$\\displaystyle \\left[\\begin{matrix}2.08166817117217 \\cdot 10^{-17} \\sqrt{3} \\sin{\\left(y \\right)} \\cos{\\left(x \\right)} - 1.38777878078145 \\cdot 10^{-17} \\cos{\\left(x \\right)} + 0.666666666666667 \\cos{\\left(x + y \\right)} + 0.333333333333333 & - 2.77555756156289 \\cdot 10^{-17} \\cos{\\left(x \\right)} - 0.666666666666667 \\cos{\\left(x + y + \\frac{\\pi}{3} \\right)} + 0.333333333333333 & - 0.666666666666667 \\sin{\\left(x + y + \\frac{\\pi}{6} \\right)} - 1.38777878078145 \\cdot 10^{-17} \\cos{\\left(x \\right)} + 0.333333333333333\\\\- 0.666666666666667 \\sin{\\left(x + y + \\frac{\\pi}{6} \\right)} - 2.77555756156289 \\cdot 10^{-17} \\cos{\\left(x \\right)} + 0.333333333333333 & - 1.38777878078145 \\cdot 10^{-17} \\sqrt{3} \\sin{\\left(y \\right)} \\cos{\\left(x \\right)} - 1.38777878078145 \\cdot 10^{-17} \\cos{\\left(x \\right)} + 0.666666666666667 \\cos{\\left(x + y \\right)} + 0.333333333333333 & - 2.77555756156289 \\cdot 10^{-17} \\cos{\\left(x \\right)} - 0.666666666666667 \\cos{\\left(x + y + \\frac{\\pi}{3} \\right)} + 0.333333333333333\\\\0.333333333333333 - 0.666666666666667 \\cos{\\left(x + y + \\frac{\\pi}{3} \\right)} & 0.333333333333333 - 0.666666666666667 \\sin{\\left(x + y + \\frac{\\pi}{6} \\right)} & 0.666666666666667 \\cos{\\left(x + y \\right)} + 0.333333333333333\\end{matrix}\\right]$"
      ],
      "text/plain": [
       "Matrix([\n",
       "[2.08166817117217e-17*sqrt(3)*sin(y)*cos(x) - 1.38777878078145e-17*cos(x) + 0.666666666666667*cos(x + y) + 0.333333333333333,                                       -2.77555756156289e-17*cos(x) - 0.666666666666667*cos(x + y + pi/3) + 0.333333333333333, -0.666666666666667*sin(x + y + pi/6) - 1.38777878078145e-17*cos(x) + 0.333333333333333],\n",
       "[                                     -0.666666666666667*sin(x + y + pi/6) - 2.77555756156289e-17*cos(x) + 0.333333333333333, -1.38777878078145e-17*sqrt(3)*sin(y)*cos(x) - 1.38777878078145e-17*cos(x) + 0.666666666666667*cos(x + y) + 0.333333333333333, -2.77555756156289e-17*cos(x) - 0.666666666666667*cos(x + y + pi/3) + 0.333333333333333],\n",
       "[                                                                    0.333333333333333 - 0.666666666666667*cos(x + y + pi/3),                                                                      0.333333333333333 - 0.666666666666667*sin(x + y + pi/6),                                       0.666666666666667*cos(x + y) + 0.333333333333333]])"
      ]
     },
     "execution_count": 32,
     "metadata": {},
     "output_type": "execute_result"
    }
   ],
   "source": [
    "qc_y = simplify((y_matrix*qutrit_grover).subs(y,x)*y_matrix*qutrit_grover)\n",
    "qc_y"
   ]
  },
  {
   "cell_type": "code",
   "execution_count": 33,
   "metadata": {
    "scrolled": true
   },
   "outputs": [
    {
     "data": {
      "text/latex": [
       "$\\displaystyle \\left[\\begin{matrix}2.08166817117217 \\cdot 10^{-17} \\sqrt{3} \\sin{\\left(y \\right)} \\cos{\\left(x \\right)} - 1.38777878078145 \\cdot 10^{-17} \\cos{\\left(x \\right)} + 0.666666666666667 \\cos{\\left(x + y \\right)} + 0.333333333333333\\\\- 0.666666666666667 \\sin{\\left(x + y + \\frac{\\pi}{6} \\right)} - 2.77555756156289 \\cdot 10^{-17} \\cos{\\left(x \\right)} + 0.333333333333333\\\\0.333333333333333 - 0.666666666666667 \\cos{\\left(x + y + \\frac{\\pi}{3} \\right)}\\end{matrix}\\right]$"
      ],
      "text/plain": [
       "Matrix([\n",
       "[2.08166817117217e-17*sqrt(3)*sin(y)*cos(x) - 1.38777878078145e-17*cos(x) + 0.666666666666667*cos(x + y) + 0.333333333333333],\n",
       "[                                     -0.666666666666667*sin(x + y + pi/6) - 2.77555756156289e-17*cos(x) + 0.333333333333333],\n",
       "[                                                                    0.333333333333333 - 0.666666666666667*cos(x + y + pi/3)]])"
      ]
     },
     "execution_count": 33,
     "metadata": {},
     "output_type": "execute_result"
    }
   ],
   "source": [
    "output_y = qc_y*init_state\n",
    "output_y"
   ]
  },
  {
   "cell_type": "markdown",
   "metadata": {},
   "source": [
    "### Circuit and output state when grover coin matrix z is used "
   ]
  },
  {
   "cell_type": "code",
   "execution_count": 34,
   "metadata": {},
   "outputs": [
    {
     "data": {
      "text/latex": [
       "$\\displaystyle \\left[\\begin{matrix}- 1.38777878078145 \\cdot 10^{-17} \\sqrt{3} \\sin{\\left(y \\right)} \\cos{\\left(x \\right)} + 1.38777878078145 \\cdot 10^{-17} \\cos{\\left(x \\right)} + 0.666666666666667 \\cos{\\left(x - y \\right)} + 0.333333333333333 & 0.333333333333333 - 0.666666666666667 \\sin{\\left(x - y + \\frac{\\pi}{6} \\right)} & - 0.666666666666667 \\sin{\\left(- x + y + \\frac{\\pi}{6} \\right)} + 1.38777878078145 \\cdot 10^{-17} \\cos{\\left(x \\right)} + 0.333333333333333\\\\0.333333333333333 - 0.666666666666667 \\sin{\\left(- x + y + \\frac{\\pi}{6} \\right)} & 0.666666666666667 \\cos{\\left(x - y \\right)} + 0.333333333333333 & 0.333333333333333 - 0.666666666666667 \\sin{\\left(x - y + \\frac{\\pi}{6} \\right)}\\\\- 0.666666666666667 \\sin{\\left(x - y + \\frac{\\pi}{6} \\right)} + 1.38777878078145 \\cdot 10^{-17} \\cos{\\left(x \\right)} + 0.333333333333333 & - 0.666666666666667 \\sin{\\left(- x + y + \\frac{\\pi}{6} \\right)} + 1.38777878078145 \\cdot 10^{-17} \\cos{\\left(x \\right)} + 0.333333333333333 & 0.666666666666667 \\cos{\\left(x - y \\right)} + 0.333333333333333\\end{matrix}\\right]$"
      ],
      "text/plain": [
       "Matrix([\n",
       "[-1.38777878078145e-17*sqrt(3)*sin(y)*cos(x) + 1.38777878078145e-17*cos(x) + 0.666666666666667*cos(x - y) + 0.333333333333333,                                 0.333333333333333 - 0.666666666666667*sin(x - y + pi/6), -0.666666666666667*sin(-x + y + pi/6) + 1.38777878078145e-17*cos(x) + 0.333333333333333],\n",
       "[                                                                    0.333333333333333 - 0.666666666666667*sin(-x + y + pi/6),                                        0.666666666666667*cos(x - y) + 0.333333333333333,                                 0.333333333333333 - 0.666666666666667*sin(x - y + pi/6)],\n",
       "[                                      -0.666666666666667*sin(x - y + pi/6) + 1.38777878078145e-17*cos(x) + 0.333333333333333, -0.666666666666667*sin(-x + y + pi/6) + 1.38777878078145e-17*cos(x) + 0.333333333333333,                                        0.666666666666667*cos(x - y) + 0.333333333333333]])"
      ]
     },
     "execution_count": 34,
     "metadata": {},
     "output_type": "execute_result"
    }
   ],
   "source": [
    "qc_z = simplify((z_matrix*qutrit_grover).subs(y,x)*z_matrix*qutrit_grover)\n",
    "qc_z"
   ]
  },
  {
   "cell_type": "code",
   "execution_count": 35,
   "metadata": {
    "scrolled": true
   },
   "outputs": [
    {
     "data": {
      "text/latex": [
       "$\\displaystyle \\left[\\begin{matrix}- 1.38777878078145 \\cdot 10^{-17} \\sqrt{3} \\sin{\\left(y \\right)} \\cos{\\left(x \\right)} + 1.38777878078145 \\cdot 10^{-17} \\cos{\\left(x \\right)} + 0.666666666666667 \\cos{\\left(x - y \\right)} + 0.333333333333333\\\\0.333333333333333 - 0.666666666666667 \\sin{\\left(- x + y + \\frac{\\pi}{6} \\right)}\\\\- 0.666666666666667 \\sin{\\left(x - y + \\frac{\\pi}{6} \\right)} + 1.38777878078145 \\cdot 10^{-17} \\cos{\\left(x \\right)} + 0.333333333333333\\end{matrix}\\right]$"
      ],
      "text/plain": [
       "Matrix([\n",
       "[-1.38777878078145e-17*sqrt(3)*sin(y)*cos(x) + 1.38777878078145e-17*cos(x) + 0.666666666666667*cos(x - y) + 0.333333333333333],\n",
       "[                                                                    0.333333333333333 - 0.666666666666667*sin(-x + y + pi/6)],\n",
       "[                                      -0.666666666666667*sin(x - y + pi/6) + 1.38777878078145e-17*cos(x) + 0.333333333333333]])"
      ]
     },
     "execution_count": 35,
     "metadata": {},
     "output_type": "execute_result"
    }
   ],
   "source": [
    "output_z = qc_z*init_state\n",
    "output_z"
   ]
  },
  {
   "cell_type": "markdown",
   "metadata": {},
   "source": [
    "### Circuit and output state when grover coin matrix w is used "
   ]
  },
  {
   "cell_type": "code",
   "execution_count": 36,
   "metadata": {},
   "outputs": [
    {
     "data": {
      "text/latex": [
       "$\\displaystyle \\left[\\begin{matrix}- 2.08166817117217 \\cdot 10^{-17} \\sqrt{3} \\sin{\\left(y \\right)} \\cos{\\left(x \\right)} - 1.38777878078145 \\cdot 10^{-17} \\cos{\\left(x \\right)} + 0.666666666666667 \\cos{\\left(x - y \\right)} + 0.333333333333333 & - 0.666666666666667 \\sin{\\left(x - y + \\frac{\\pi}{6} \\right)} - 1.38777878078145 \\cdot 10^{-17} \\cos{\\left(x \\right)} + 0.333333333333333 & - 0.666666666666667 \\sin{\\left(- x + y + \\frac{\\pi}{6} \\right)} - 2.77555756156289 \\cdot 10^{-17} \\cos{\\left(x \\right)} + 0.333333333333333\\\\0.333333333333333 - 0.666666666666667 \\sin{\\left(- x + y + \\frac{\\pi}{6} \\right)} & 0.666666666666667 \\cos{\\left(x - y \\right)} + 0.333333333333333 & 0.333333333333333 - 0.666666666666667 \\sin{\\left(x - y + \\frac{\\pi}{6} \\right)}\\\\- 0.666666666666667 \\sin{\\left(x - y + \\frac{\\pi}{6} \\right)} - 2.77555756156289 \\cdot 10^{-17} \\cos{\\left(x \\right)} + 0.333333333333333 & - 0.666666666666667 \\sin{\\left(- x + y + \\frac{\\pi}{6} \\right)} - 2.77555756156289 \\cdot 10^{-17} \\cos{\\left(x \\right)} + 0.333333333333333 & 1.38777878078145 \\cdot 10^{-17} \\sqrt{3} \\sin{\\left(y \\right)} \\cos{\\left(x \\right)} - 1.38777878078145 \\cdot 10^{-17} \\cos{\\left(x \\right)} + 0.666666666666667 \\cos{\\left(x - y \\right)} + 0.333333333333333\\end{matrix}\\right]$"
      ],
      "text/plain": [
       "Matrix([\n",
       "[-2.08166817117217e-17*sqrt(3)*sin(y)*cos(x) - 1.38777878078145e-17*cos(x) + 0.666666666666667*cos(x - y) + 0.333333333333333,  -0.666666666666667*sin(x - y + pi/6) - 1.38777878078145e-17*cos(x) + 0.333333333333333,                                     -0.666666666666667*sin(-x + y + pi/6) - 2.77555756156289e-17*cos(x) + 0.333333333333333],\n",
       "[                                                                    0.333333333333333 - 0.666666666666667*sin(-x + y + pi/6),                                        0.666666666666667*cos(x - y) + 0.333333333333333,                                                                     0.333333333333333 - 0.666666666666667*sin(x - y + pi/6)],\n",
       "[                                      -0.666666666666667*sin(x - y + pi/6) - 2.77555756156289e-17*cos(x) + 0.333333333333333, -0.666666666666667*sin(-x + y + pi/6) - 2.77555756156289e-17*cos(x) + 0.333333333333333, 1.38777878078145e-17*sqrt(3)*sin(y)*cos(x) - 1.38777878078145e-17*cos(x) + 0.666666666666667*cos(x - y) + 0.333333333333333]])"
      ]
     },
     "execution_count": 36,
     "metadata": {},
     "output_type": "execute_result"
    }
   ],
   "source": [
    "qc_w = simplify((w_matrix*qutrit_grover).subs(y,x)*w_matrix*qutrit_grover)\n",
    "qc_w"
   ]
  },
  {
   "cell_type": "code",
   "execution_count": 37,
   "metadata": {
    "scrolled": true
   },
   "outputs": [
    {
     "data": {
      "text/latex": [
       "$\\displaystyle \\left[\\begin{matrix}- 2.08166817117217 \\cdot 10^{-17} \\sqrt{3} \\sin{\\left(y \\right)} \\cos{\\left(x \\right)} - 1.38777878078145 \\cdot 10^{-17} \\cos{\\left(x \\right)} + 0.666666666666667 \\cos{\\left(x - y \\right)} + 0.333333333333333\\\\0.333333333333333 - 0.666666666666667 \\sin{\\left(- x + y + \\frac{\\pi}{6} \\right)}\\\\- 0.666666666666667 \\sin{\\left(x - y + \\frac{\\pi}{6} \\right)} - 2.77555756156289 \\cdot 10^{-17} \\cos{\\left(x \\right)} + 0.333333333333333\\end{matrix}\\right]$"
      ],
      "text/plain": [
       "Matrix([\n",
       "[-2.08166817117217e-17*sqrt(3)*sin(y)*cos(x) - 1.38777878078145e-17*cos(x) + 0.666666666666667*cos(x - y) + 0.333333333333333],\n",
       "[                                                                    0.333333333333333 - 0.666666666666667*sin(-x + y + pi/6)],\n",
       "[                                      -0.666666666666667*sin(x - y + pi/6) - 2.77555756156289e-17*cos(x) + 0.333333333333333]])"
      ]
     },
     "execution_count": 37,
     "metadata": {},
     "output_type": "execute_result"
    }
   ],
   "source": [
    "output_w = qc_w*init_state\n",
    "output_w"
   ]
  },
  {
   "cell_type": "markdown",
   "metadata": {},
   "source": [
    "Either using matrix \"X\" or matrix \"Y\" we get the same output vector, similarly for either matrix \"Z\" or matrix \"W\" we get the same output vector. And in both cases we cannot find a value of x (our variational circuit value) that would give us a reduced probability of one specific state for all values of input data y. Our input data is from (0, 2*$\\pi$) thus probabilities of each state appearing will keep fluctuating.    "
   ]
  },
  {
   "cell_type": "markdown",
   "metadata": {},
   "source": [
    "### Example of how to substitute values "
   ]
  },
  {
   "cell_type": "code",
   "execution_count": 38,
   "metadata": {},
   "outputs": [
    {
     "data": {
      "text/latex": [
       "$\\displaystyle \\left[\\begin{matrix}0.666666666666667 \\cos{\\left(x \\right)} + 0.333333333333333 & 0.333333333333333 - 0.666666666666667 \\cos{\\left(x + \\frac{\\pi}{3} \\right)} & 0.333333333333333 - 0.666666666666667 \\sin{\\left(x + \\frac{\\pi}{6} \\right)}\\\\0.333333333333333 - 0.666666666666667 \\sin{\\left(x + \\frac{\\pi}{6} \\right)} & 0.666666666666667 \\cos{\\left(x \\right)} + 0.333333333333333 & 0.333333333333333 - 0.666666666666667 \\cos{\\left(x + \\frac{\\pi}{3} \\right)}\\\\0.333333333333333 - 0.666666666666667 \\cos{\\left(x + \\frac{\\pi}{3} \\right)} & - 0.333333333333333 \\sqrt{3} \\sin{\\left(x \\right)} - 0.333333333333333 \\cos{\\left(x \\right)} + 0.333333333333333 & 0.666666666666667 \\cos{\\left(x \\right)} + 0.333333333333333\\end{matrix}\\right]$"
      ],
      "text/plain": [
       "Matrix([\n",
       "[       0.666666666666667*cos(x) + 0.333333333333333,                              0.333333333333333 - 0.666666666666667*cos(x + pi/3), 0.333333333333333 - 0.666666666666667*sin(x + pi/6)],\n",
       "[0.333333333333333 - 0.666666666666667*sin(x + pi/6),                                     0.666666666666667*cos(x) + 0.333333333333333, 0.333333333333333 - 0.666666666666667*cos(x + pi/3)],\n",
       "[0.333333333333333 - 0.666666666666667*cos(x + pi/3), -0.333333333333333*sqrt(3)*sin(x) - 0.333333333333333*cos(x) + 0.333333333333333,        0.666666666666667*cos(x) + 0.333333333333333]])"
      ]
     },
     "execution_count": 38,
     "metadata": {},
     "output_type": "execute_result"
    }
   ],
   "source": [
    "# example where we subsitute the data value to be zero \n",
    "hello = qc.subs(y, 0)\n",
    "hello"
   ]
  },
  {
   "cell_type": "markdown",
   "metadata": {},
   "source": [
    "## Feature map part of the circuit"
   ]
  },
  {
   "cell_type": "code",
   "execution_count": 39,
   "metadata": {},
   "outputs": [
    {
     "data": {
      "text/latex": [
       "$\\displaystyle \\left[\\begin{matrix}0.333333333333333 - 0.666666666666667 \\cos{\\left(y \\right)}\\\\0.666666666666667 \\sin{\\left(y + \\frac{\\pi}{6} \\right)} + 0.333333333333333\\\\0.666666666666667 \\cos{\\left(y + \\frac{\\pi}{3} \\right)} + 0.333333333333333\\end{matrix}\\right]$"
      ],
      "text/plain": [
       "Matrix([\n",
       "[       0.333333333333333 - 0.666666666666667*cos(y)],\n",
       "[0.666666666666667*sin(y + pi/6) + 0.333333333333333],\n",
       "[0.666666666666667*cos(y + pi/3) + 0.333333333333333]])"
      ]
     },
     "execution_count": 39,
     "metadata": {},
     "output_type": "execute_result"
    }
   ],
   "source": [
    "state_after_feature_map = simplify(x_matrix*qutrit_grover*init_state)\n",
    "state_after_feature_map\n",
    "\n"
   ]
  },
  {
   "cell_type": "markdown",
   "metadata": {},
   "source": [
    "## Creating a dummy dataset"
   ]
  },
  {
   "cell_type": "code",
   "execution_count": 40,
   "metadata": {},
   "outputs": [
    {
     "name": "stdout",
     "output_type": "stream",
     "text": [
      "[0.         0.06343434 0.12686869 0.19030303 0.25373737 0.31717172\n",
      " 0.38060606 0.4440404  0.50747475 0.57090909 0.63434343 0.69777778\n",
      " 0.76121212 0.82464646 0.88808081 0.95151515 1.01494949 1.07838384\n",
      " 1.14181818 1.20525253 1.26868687 1.33212121 1.39555556 1.4589899\n",
      " 1.52242424 1.58585859 1.64929293 1.71272727 1.77616162 1.83959596\n",
      " 1.9030303  1.96646465 2.02989899 2.09333333 2.15676768 2.22020202\n",
      " 2.28363636 2.34707071 2.41050505 2.47393939 2.53737374 2.60080808\n",
      " 2.66424242 2.72767677 2.79111111 2.85454545 2.9179798  2.98141414\n",
      " 3.04484848 3.10828283 3.17171717 3.23515152 3.29858586 3.3620202\n",
      " 3.42545455 3.48888889 3.55232323 3.61575758 3.67919192 3.74262626\n",
      " 3.80606061 3.86949495 3.93292929 3.99636364 4.05979798 4.12323232\n",
      " 4.18666667 4.25010101 4.31353535 4.3769697  4.44040404 4.50383838\n",
      " 4.56727273 4.63070707 4.69414141 4.75757576 4.8210101  4.88444444\n",
      " 4.94787879 5.01131313 5.07474747 5.13818182 5.20161616 5.26505051\n",
      " 5.32848485 5.39191919 5.45535354 5.51878788 5.58222222 5.64565657\n",
      " 5.70909091 5.77252525 5.8359596  5.89939394 5.96282828 6.02626263\n",
      " 6.08969697 6.15313131 6.21656566 6.28      ]\n",
      "[0, 0, 0, 0, 0, 0, 0, 0, 0, 0, 0, 0, 0, 0, 0, 0, 0, 0, 0, 0, 0, 0, 0, 0, 0, 0, 0, 0, 0, 0, 0, 0, 0, 0, 0, 0, 0, 0, 0, 0, 0, 0, 0, 0, 0, 0, 0, 0, 0, 0, 1, 1, 1, 1, 1, 1, 1, 1, 1, 1, 1, 1, 1, 1, 1, 1, 1, 1, 1, 1, 1, 1, 1, 1, 1, 1, 1, 1, 1, 1, 1, 1, 1, 1, 1, 1, 1, 1, 1, 1, 1, 1, 1, 1, 1, 1, 1, 1, 1, 1]\n",
      "size of dataset is 100\n"
     ]
    }
   ],
   "source": [
    "# solve for the same data on their algorithm (qubits case with Z feature map, etc)\n",
    "\n",
    "# creating a dummy dataset\n",
    "import numpy as np \n",
    "\n",
    "data = np.linspace(0, 2*3.14,100)\n",
    "labels = [0]*50 + [1]*50\n",
    "print(data)\n",
    "print(labels)\n",
    "print(\"size of dataset is {}\".format(data.size))"
   ]
  },
  {
   "cell_type": "markdown",
   "metadata": {},
   "source": [
    "## Variational Circuit part"
   ]
  },
  {
   "cell_type": "code",
   "execution_count": 41,
   "metadata": {},
   "outputs": [
    {
     "data": {
      "text/latex": [
       "$\\displaystyle \\left[\\begin{matrix}0.333333333333333 - 0.666666666666667 \\cos{\\left(z \\right)} & 0.666666666666667 \\cos{\\left(z + \\frac{\\pi}{3} \\right)} + 0.333333333333333 & 0.666666666666667 \\sin{\\left(z + \\frac{\\pi}{6} \\right)} + 0.333333333333333\\\\0.666666666666667 \\sin{\\left(z + \\frac{\\pi}{6} \\right)} + 0.333333333333333 & 0.333333333333333 - 0.666666666666667 \\cos{\\left(z \\right)} & 0.666666666666667 \\cos{\\left(z + \\frac{\\pi}{3} \\right)} + 0.333333333333333\\\\0.666666666666667 \\cos{\\left(z + \\frac{\\pi}{3} \\right)} + 0.333333333333333 & 0.666666666666667 \\sin{\\left(z + \\frac{\\pi}{6} \\right)} + 0.333333333333333 & 0.333333333333333 - 0.666666666666667 \\cos{\\left(z \\right)}\\end{matrix}\\right]$"
      ],
      "text/plain": [
       "Matrix([\n",
       "[       0.333333333333333 - 0.666666666666667*cos(z), 0.666666666666667*cos(z + pi/3) + 0.333333333333333, 0.666666666666667*sin(z + pi/6) + 0.333333333333333],\n",
       "[0.666666666666667*sin(z + pi/6) + 0.333333333333333,        0.333333333333333 - 0.666666666666667*cos(z), 0.666666666666667*cos(z + pi/3) + 0.333333333333333],\n",
       "[0.666666666666667*cos(z + pi/3) + 0.333333333333333, 0.666666666666667*sin(z + pi/6) + 0.333333333333333,        0.333333333333333 - 0.666666666666667*cos(z)]])"
      ]
     },
     "execution_count": 41,
     "metadata": {},
     "output_type": "execute_result"
    }
   ],
   "source": [
    "var_circ_x = simplify((x_matrix*qutrit_grover).subs(y, z))\n",
    "var_circ_x"
   ]
  },
  {
   "cell_type": "code",
   "execution_count": 42,
   "metadata": {},
   "outputs": [
    {
     "data": {
      "text/latex": [
       "$\\displaystyle \\left[\\begin{matrix}-0.333333333333333 & 0.666666666666667 & 0.666666666666667\\\\0.666666666666667 & -0.333333333333333 & 0.666666666666667\\\\0.666666666666667 & 0.666666666666667 & -0.333333333333333\\end{matrix}\\right]$"
      ],
      "text/plain": [
       "Matrix([\n",
       "[-0.333333333333333,  0.666666666666667,  0.666666666666667],\n",
       "[ 0.666666666666667, -0.333333333333333,  0.666666666666667],\n",
       "[ 0.666666666666667,  0.666666666666667, -0.333333333333333]])"
      ]
     },
     "execution_count": 42,
     "metadata": {},
     "output_type": "execute_result"
    }
   ],
   "source": [
    "var_circ_x.subs(z, 0).evalf()"
   ]
  },
  {
   "cell_type": "markdown",
   "metadata": {},
   "source": [
    "## Test run"
   ]
  },
  {
   "cell_type": "code",
   "execution_count": 43,
   "metadata": {},
   "outputs": [
    {
     "data": {
      "text/latex": [
       "$\\displaystyle \\left[\\begin{matrix}0.998659144405677\\\\-0.0359288505294626\\\\0.0372697061237858\\end{matrix}\\right]$"
      ],
      "text/plain": [
       "Matrix([\n",
       "[  0.998659144405677],\n",
       "[-0.0359288505294626],\n",
       "[ 0.0372697061237858]])"
      ]
     },
     "execution_count": 43,
     "metadata": {},
     "output_type": "execute_result"
    }
   ],
   "source": [
    "output = var_circ_x.subs(z, 0)*state_after_feature_map.subs(y, data[1])\n",
    "output.evalf()"
   ]
  },
  {
   "cell_type": "markdown",
   "metadata": {},
   "source": [
    "## Defining helper functions"
   ]
  },
  {
   "cell_type": "code",
   "execution_count": 79,
   "metadata": {},
   "outputs": [],
   "source": [
    "def measure(state, is_qubit=False): \n",
    "    output = state.evalf()\n",
    "    coeff = []\n",
    "    max_prob = 0\n",
    "    max_index = -1\n",
    "    \n",
    "    if is_qubit==True:\n",
    "        for i in range(2): \n",
    "            coeff.append((float(abs(output[i])))**2)\n",
    "        if coeff[0] > coeff[1]:\n",
    "            max_prob = coeff[0]\n",
    "            max_index = 0\n",
    "        else:\n",
    "            max_prob = coeff[1]\n",
    "            max_index = 1 \n",
    "    if is_qubit == False: \n",
    "        for i in range(3): \n",
    "            coeff.append((float(abs(output[i])))**2)\n",
    "            if coeff[i] > max_prob: \n",
    "                max_prob = coeff[i]\n",
    "                max_index = i\n",
    "\n",
    "    return max_index, max_prob, coeff\n",
    "    "
   ]
  },
  {
   "cell_type": "code",
   "execution_count": 45,
   "metadata": {},
   "outputs": [
    {
     "name": "stdout",
     "output_type": "stream",
     "text": [
      "State on measurement is 0 with probability 0.997320086705078\n"
     ]
    }
   ],
   "source": [
    "k, l , _= measure(output)\n",
    "print(\"State on measurement is {} with probability {}\".format(k, l))\n"
   ]
  },
  {
   "cell_type": "code",
   "execution_count": 46,
   "metadata": {},
   "outputs": [],
   "source": [
    "def cost_function(predictions):\n",
    "    cost = 0\n",
    "    for i in range(100):\n",
    "        if i < 50: \n",
    "            if predictions[i] != 0: \n",
    "                cost = cost + 1\n",
    "        if i >= 50: \n",
    "            if predictions[i] != 1: \n",
    "                cost = cost + 1\n",
    "    return cost"
   ]
  },
  {
   "cell_type": "code",
   "execution_count": 47,
   "metadata": {},
   "outputs": [
    {
     "data": {
      "text/plain": [
       "50"
      ]
     },
     "execution_count": 47,
     "metadata": {},
     "output_type": "execute_result"
    }
   ],
   "source": [
    "cost_function(np.zeros(100))"
   ]
  },
  {
   "cell_type": "code",
   "execution_count": 48,
   "metadata": {},
   "outputs": [],
   "source": [
    "def post_measurement(predictions, find='2', replace='0'):\n",
    "    for n, i in enumerate(predictions): \n",
    "        if i == int(find):\n",
    "            predictions[n] = int(replace)\n",
    "    return predictions\n",
    "        "
   ]
  },
  {
   "cell_type": "markdown",
   "metadata": {},
   "source": [
    "## Creating prediction vectors for multiple values of z (variational circuit parameter)"
   ]
  },
  {
   "cell_type": "code",
   "execution_count": 49,
   "metadata": {},
   "outputs": [],
   "source": [
    "z_values = np.linspace(0, 2*3.14,100)"
   ]
  },
  {
   "cell_type": "code",
   "execution_count": 75,
   "metadata": {},
   "outputs": [],
   "source": [
    "def create_predictions_z_value(state_after_feature_map, var_circ_z, data, labels, z_value, verbose=False, is_qubit=False): \n",
    "    predictions = []\n",
    "    for j in range(data.size): \n",
    "        output = var_circ_z.subs(z, z_value)*state_after_feature_map.subs(y, data[j])\n",
    "        index, prob, _ = measure(output.evalf(), is_qubit=is_qubit)\n",
    "        predictions.append(index)\n",
    "        if verbose == True:\n",
    "            print(\"running for z_value number {} of {} and prediction is {}\".format(j, z_values.size, index))\n",
    "    return predictions"
   ]
  },
  {
   "cell_type": "code",
   "execution_count": 51,
   "metadata": {},
   "outputs": [
    {
     "name": "stdout",
     "output_type": "stream",
     "text": [
      "running for z_value number 0 of 100 and prediction is 0\n",
      "running for z_value number 1 of 100 and prediction is 0\n",
      "running for z_value number 2 of 100 and prediction is 0\n",
      "running for z_value number 3 of 100 and prediction is 0\n",
      "running for z_value number 4 of 100 and prediction is 0\n",
      "running for z_value number 5 of 100 and prediction is 0\n",
      "running for z_value number 6 of 100 and prediction is 0\n",
      "running for z_value number 7 of 100 and prediction is 0\n",
      "running for z_value number 8 of 100 and prediction is 0\n",
      "running for z_value number 9 of 100 and prediction is 0\n",
      "running for z_value number 10 of 100 and prediction is 0\n",
      "running for z_value number 11 of 100 and prediction is 0\n",
      "running for z_value number 12 of 100 and prediction is 0\n",
      "running for z_value number 13 of 100 and prediction is 0\n",
      "running for z_value number 14 of 100 and prediction is 0\n",
      "running for z_value number 15 of 100 and prediction is 0\n",
      "running for z_value number 16 of 100 and prediction is 0\n",
      "running for z_value number 17 of 100 and prediction is 2\n",
      "running for z_value number 18 of 100 and prediction is 2\n",
      "running for z_value number 19 of 100 and prediction is 2\n",
      "running for z_value number 20 of 100 and prediction is 2\n",
      "running for z_value number 21 of 100 and prediction is 2\n",
      "running for z_value number 22 of 100 and prediction is 2\n",
      "running for z_value number 23 of 100 and prediction is 2\n",
      "running for z_value number 24 of 100 and prediction is 2\n",
      "running for z_value number 25 of 100 and prediction is 2\n",
      "running for z_value number 26 of 100 and prediction is 2\n",
      "running for z_value number 27 of 100 and prediction is 2\n",
      "running for z_value number 28 of 100 and prediction is 2\n",
      "running for z_value number 29 of 100 and prediction is 2\n",
      "running for z_value number 30 of 100 and prediction is 2\n",
      "running for z_value number 31 of 100 and prediction is 2\n",
      "running for z_value number 32 of 100 and prediction is 2\n",
      "running for z_value number 33 of 100 and prediction is 2\n",
      "running for z_value number 34 of 100 and prediction is 2\n",
      "running for z_value number 35 of 100 and prediction is 2\n",
      "running for z_value number 36 of 100 and prediction is 2\n",
      "running for z_value number 37 of 100 and prediction is 2\n",
      "running for z_value number 38 of 100 and prediction is 2\n",
      "running for z_value number 39 of 100 and prediction is 2\n",
      "running for z_value number 40 of 100 and prediction is 2\n",
      "running for z_value number 41 of 100 and prediction is 2\n",
      "running for z_value number 42 of 100 and prediction is 2\n",
      "running for z_value number 43 of 100 and prediction is 2\n",
      "running for z_value number 44 of 100 and prediction is 2\n",
      "running for z_value number 45 of 100 and prediction is 2\n",
      "running for z_value number 46 of 100 and prediction is 2\n",
      "running for z_value number 47 of 100 and prediction is 2\n",
      "running for z_value number 48 of 100 and prediction is 2\n",
      "running for z_value number 49 of 100 and prediction is 2\n",
      "running for z_value number 50 of 100 and prediction is 1\n",
      "running for z_value number 51 of 100 and prediction is 1\n",
      "running for z_value number 52 of 100 and prediction is 1\n",
      "running for z_value number 53 of 100 and prediction is 1\n",
      "running for z_value number 54 of 100 and prediction is 1\n",
      "running for z_value number 55 of 100 and prediction is 1\n",
      "running for z_value number 56 of 100 and prediction is 1\n",
      "running for z_value number 57 of 100 and prediction is 1\n",
      "running for z_value number 58 of 100 and prediction is 1\n",
      "running for z_value number 59 of 100 and prediction is 1\n",
      "running for z_value number 60 of 100 and prediction is 1\n",
      "running for z_value number 61 of 100 and prediction is 1\n",
      "running for z_value number 62 of 100 and prediction is 1\n",
      "running for z_value number 63 of 100 and prediction is 1\n",
      "running for z_value number 64 of 100 and prediction is 1\n",
      "running for z_value number 65 of 100 and prediction is 1\n",
      "running for z_value number 66 of 100 and prediction is 1\n",
      "running for z_value number 67 of 100 and prediction is 1\n",
      "running for z_value number 68 of 100 and prediction is 1\n",
      "running for z_value number 69 of 100 and prediction is 1\n",
      "running for z_value number 70 of 100 and prediction is 1\n",
      "running for z_value number 71 of 100 and prediction is 1\n",
      "running for z_value number 72 of 100 and prediction is 1\n",
      "running for z_value number 73 of 100 and prediction is 1\n",
      "running for z_value number 74 of 100 and prediction is 1\n",
      "running for z_value number 75 of 100 and prediction is 1\n",
      "running for z_value number 76 of 100 and prediction is 1\n",
      "running for z_value number 77 of 100 and prediction is 1\n",
      "running for z_value number 78 of 100 and prediction is 1\n",
      "running for z_value number 79 of 100 and prediction is 1\n",
      "running for z_value number 80 of 100 and prediction is 1\n",
      "running for z_value number 81 of 100 and prediction is 1\n",
      "running for z_value number 82 of 100 and prediction is 1\n",
      "running for z_value number 83 of 100 and prediction is 0\n",
      "running for z_value number 84 of 100 and prediction is 0\n",
      "running for z_value number 85 of 100 and prediction is 0\n",
      "running for z_value number 86 of 100 and prediction is 0\n",
      "running for z_value number 87 of 100 and prediction is 0\n",
      "running for z_value number 88 of 100 and prediction is 0\n",
      "running for z_value number 89 of 100 and prediction is 0\n",
      "running for z_value number 90 of 100 and prediction is 0\n",
      "running for z_value number 91 of 100 and prediction is 0\n",
      "running for z_value number 92 of 100 and prediction is 0\n",
      "running for z_value number 93 of 100 and prediction is 0\n",
      "running for z_value number 94 of 100 and prediction is 0\n",
      "running for z_value number 95 of 100 and prediction is 0\n",
      "running for z_value number 96 of 100 and prediction is 0\n",
      "running for z_value number 97 of 100 and prediction is 0\n",
      "running for z_value number 98 of 100 and prediction is 0\n",
      "running for z_value number 99 of 100 and prediction is 0\n"
     ]
    }
   ],
   "source": [
    "pred = create_predictions_z_value(state_after_feature_map, var_circ_x, data, labels, z_values[0], verbose=True)"
   ]
  },
  {
   "cell_type": "code",
   "execution_count": 52,
   "metadata": {},
   "outputs": [
    {
     "name": "stdout",
     "output_type": "stream",
     "text": [
      "[0, 0, 0, 0, 0, 0, 0, 0, 0, 0, 0, 0, 0, 0, 0, 0, 0, 2, 2, 2, 2, 2, 2, 2, 2, 2, 2, 2, 2, 2, 2, 2, 2, 2, 2, 2, 2, 2, 2, 2, 2, 2, 2, 2, 2, 2, 2, 2, 2, 2, 1, 1, 1, 1, 1, 1, 1, 1, 1, 1, 1, 1, 1, 1, 1, 1, 1, 1, 1, 1, 1, 1, 1, 1, 1, 1, 1, 1, 1, 1, 1, 1, 1, 0, 0, 0, 0, 0, 0, 0, 0, 0, 0, 0, 0, 0, 0, 0, 0, 0]\n"
     ]
    }
   ],
   "source": [
    "print(pred)"
   ]
  },
  {
   "cell_type": "code",
   "execution_count": 53,
   "metadata": {},
   "outputs": [
    {
     "data": {
      "text/plain": [
       "50"
      ]
     },
     "execution_count": 53,
     "metadata": {},
     "output_type": "execute_result"
    }
   ],
   "source": [
    "cost_function(pred)"
   ]
  },
  {
   "cell_type": "code",
   "execution_count": 26,
   "metadata": {},
   "outputs": [],
   "source": [
    "# what does z do: \n",
    "\n",
    "# 1. reduce cost function \n",
    "# 2. for which value of z will we get only 2 states more percent of time "
   ]
  },
  {
   "cell_type": "markdown",
   "metadata": {},
   "source": [
    "## Find costs - x matrix + qutrit_grover"
   ]
  },
  {
   "cell_type": "code",
   "execution_count": 61,
   "metadata": {},
   "outputs": [
    {
     "data": {
      "text/latex": [
       "$\\displaystyle \\left[\\begin{matrix}0.333333333333333 - 0.666666666666667 \\cos{\\left(y \\right)}\\\\0.666666666666667 \\sin{\\left(y + \\frac{\\pi}{6} \\right)} + 0.333333333333333\\\\0.666666666666667 \\cos{\\left(y + \\frac{\\pi}{3} \\right)} + 0.333333333333333\\end{matrix}\\right]$"
      ],
      "text/plain": [
       "Matrix([\n",
       "[       0.333333333333333 - 0.666666666666667*cos(y)],\n",
       "[0.666666666666667*sin(y + pi/6) + 0.333333333333333],\n",
       "[0.666666666666667*cos(y + pi/3) + 0.333333333333333]])"
      ]
     },
     "execution_count": 61,
     "metadata": {},
     "output_type": "execute_result"
    }
   ],
   "source": [
    "state_after_feature_map = simplify(x_matrix*qutrit_grover*init_state)\n",
    "state_after_feature_map"
   ]
  },
  {
   "cell_type": "code",
   "execution_count": 62,
   "metadata": {},
   "outputs": [
    {
     "data": {
      "text/latex": [
       "$\\displaystyle \\left[\\begin{matrix}0.333333333333333 - 0.666666666666667 \\cos{\\left(z \\right)} & 0.666666666666667 \\cos{\\left(z + \\frac{\\pi}{3} \\right)} + 0.333333333333333 & 0.666666666666667 \\sin{\\left(z + \\frac{\\pi}{6} \\right)} + 0.333333333333333\\\\0.666666666666667 \\sin{\\left(z + \\frac{\\pi}{6} \\right)} + 0.333333333333333 & 0.333333333333333 - 0.666666666666667 \\cos{\\left(z \\right)} & 0.666666666666667 \\cos{\\left(z + \\frac{\\pi}{3} \\right)} + 0.333333333333333\\\\0.666666666666667 \\cos{\\left(z + \\frac{\\pi}{3} \\right)} + 0.333333333333333 & 0.666666666666667 \\sin{\\left(z + \\frac{\\pi}{6} \\right)} + 0.333333333333333 & 0.333333333333333 - 0.666666666666667 \\cos{\\left(z \\right)}\\end{matrix}\\right]$"
      ],
      "text/plain": [
       "Matrix([\n",
       "[       0.333333333333333 - 0.666666666666667*cos(z), 0.666666666666667*cos(z + pi/3) + 0.333333333333333, 0.666666666666667*sin(z + pi/6) + 0.333333333333333],\n",
       "[0.666666666666667*sin(z + pi/6) + 0.333333333333333,        0.333333333333333 - 0.666666666666667*cos(z), 0.666666666666667*cos(z + pi/3) + 0.333333333333333],\n",
       "[0.666666666666667*cos(z + pi/3) + 0.333333333333333, 0.666666666666667*sin(z + pi/6) + 0.333333333333333,        0.333333333333333 - 0.666666666666667*cos(z)]])"
      ]
     },
     "execution_count": 62,
     "metadata": {},
     "output_type": "execute_result"
    }
   ],
   "source": [
    "var_circuit = simplify((x_matrix*qutrit_grover).subs(y, z))\n",
    "var_circuit"
   ]
  },
  {
   "cell_type": "code",
   "execution_count": 63,
   "metadata": {},
   "outputs": [],
   "source": [
    "costs = []\n",
    "for i in range(z_values.size): \n",
    "    prediction = []\n",
    "    prediction = create_predictions_z_value(state_after_feature_map, var_circuit, data, labels, z_values[i])\n",
    "    costs.append(cost_function(prediction))"
   ]
  },
  {
   "cell_type": "code",
   "execution_count": 67,
   "metadata": {},
   "outputs": [
    {
     "name": "stdout",
     "output_type": "stream",
     "text": [
      "[50, 52, 54, 56, 58, 60, 62, 64, 66, 68, 70, 72, 74, 76, 78, 80, 82, 84, 85, 86, 87, 88, 89, 90, 91, 92, 93, 94, 95, 96, 97, 98, 99, 100, 99, 98, 97, 96, 95, 94, 93, 92, 91, 90, 89, 88, 87, 86, 85, 84, 82, 80, 78, 76, 74, 72, 70, 68, 66, 64, 62, 60, 58, 56, 54, 52, 50, 49, 48, 47, 46, 45, 44, 43, 42, 41, 40, 39, 38, 37, 36, 35, 34, 34, 35, 36, 37, 38, 39, 40, 41, 42, 43, 44, 45, 46, 47, 48, 49, 50]\n"
     ]
    }
   ],
   "source": [
    "print(costs)"
   ]
  },
  {
   "cell_type": "code",
   "execution_count": 29,
   "metadata": {},
   "outputs": [
    {
     "name": "stdout",
     "output_type": "stream",
     "text": [
      "(array([], dtype=int64),)\n"
     ]
    }
   ],
   "source": [
    "a = np.where(costs == 71)\n",
    "print(a)"
   ]
  },
  {
   "cell_type": "code",
   "execution_count": 30,
   "metadata": {},
   "outputs": [
    {
     "name": "stdout",
     "output_type": "stream",
     "text": [
      "55\n"
     ]
    }
   ],
   "source": [
    "index = 0\n",
    "for i in range(len(costs)): \n",
    "    if costs[i] == 30: \n",
    "        print(i)"
   ]
  },
  {
   "cell_type": "code",
   "execution_count": 31,
   "metadata": {},
   "outputs": [
    {
     "data": {
      "text/plain": [
       "3.4888888888888894"
      ]
     },
     "execution_count": 31,
     "metadata": {},
     "output_type": "execute_result"
    }
   ],
   "source": [
    "z_values[55]\n",
    "\n"
   ]
  },
  {
   "cell_type": "markdown",
   "metadata": {},
   "source": [
    "### Testing: X matrix + grover matrix "
   ]
  },
  {
   "cell_type": "code",
   "execution_count": 102,
   "metadata": {},
   "outputs": [],
   "source": [
    "var_circ_x = simplify((x_matrix*qutrit_grover).subs(y, z))\n",
    "state_after_feature_map_x = simplify(x_matrix*qutrit_grover*init_state)\n",
    "\n",
    "costs_x = []\n",
    "predictions_x = []\n",
    "for i in range(z_values.size): \n",
    "    prediction= []\n",
    "    prediction = create_predictions_z_value(state_after_feature_map_x, var_circ_x, data, labels, z_values[i])\n",
    "    predictions_x.append(prediction)\n",
    "    costs_x.append(cost_function(prediction))"
   ]
  },
  {
   "cell_type": "code",
   "execution_count": 106,
   "metadata": {},
   "outputs": [
    {
     "name": "stdout",
     "output_type": "stream",
     "text": [
      "[50, 52, 54, 56, 58, 60, 62, 64, 66, 68, 70, 72, 74, 76, 78, 80, 82, 84, 85, 86, 87, 88, 89, 90, 91, 92, 93, 94, 95, 96, 97, 98, 99, 100, 99, 98, 97, 96, 95, 94, 93, 92, 91, 90, 89, 88, 87, 86, 85, 84, 82, 80, 78, 76, 74, 72, 70, 68, 66, 64, 62, 60, 58, 56, 54, 52, 50, 49, 48, 47, 46, 45, 44, 43, 42, 41, 40, 39, 38, 37, 36, 35, 34, 34, 35, 36, 37, 38, 39, 40, 41, 42, 43, 44, 45, 46, 47, 48, 49, 50]\n",
      "100\n",
      "Least cost without post processing is 34\n"
     ]
    }
   ],
   "source": [
    "print(costs_x)\n",
    "print(len(costs_x))\n",
    "print(\"Least cost without post processing is {}\".format(min(costs_x)))"
   ]
  },
  {
   "cell_type": "code",
   "execution_count": 104,
   "metadata": {},
   "outputs": [
    {
     "name": "stdout",
     "output_type": "stream",
     "text": [
      "[0, 0, 0, 0, 0, 0, 0, 0, 0, 0, 0, 0, 0, 0, 0, 0, 0, 2, 2, 2, 2, 2, 2, 2, 2, 2, 2, 2, 2, 2, 2, 2, 2, 2, 2, 2, 2, 2, 2, 2, 2, 2, 2, 2, 2, 2, 2, 2, 2, 2, 1, 1, 1, 1, 1, 1, 1, 1, 1, 1, 1, 1, 1, 1, 1, 1, 1, 1, 1, 1, 1, 1, 1, 1, 1, 1, 1, 1, 1, 1, 1, 1, 1, 0, 0, 0, 0, 0, 0, 0, 0, 0, 0, 0, 0, 0, 0, 0, 0, 0]\n"
     ]
    }
   ],
   "source": [
    "print(predictions_x[0])"
   ]
  },
  {
   "cell_type": "code",
   "execution_count": 112,
   "metadata": {},
   "outputs": [
    {
     "name": "stdout",
     "output_type": "stream",
     "text": [
      "82\n",
      "83\n",
      "The least cost 34 is corresponding to the variational circuit value of 5.265050505050506\n"
     ]
    }
   ],
   "source": [
    "index = 0\n",
    "min_costs_x = min(costs_x)\n",
    "for i in range(len(costs_x)): \n",
    "    if costs_x[i] == min_costs_x: \n",
    "        print(i)\n",
    "        index=i\n",
    "print(\"The least cost {} is corresponding to the variational circuit value of {}\".format(min_costs_x,z_values[index]))\n"
   ]
  },
  {
   "cell_type": "markdown",
   "metadata": {},
   "source": [
    "calculating costs after replacing 2 with 0"
   ]
  },
  {
   "cell_type": "code",
   "execution_count": 123,
   "metadata": {},
   "outputs": [
    {
     "name": "stdout",
     "output_type": "stream",
     "text": [
      "[17, 19, 21, 23, 25, 27, 29, 31, 33, 35, 37, 39, 41, 43, 45, 47, 49, 51, 53, 55, 57, 59, 61, 63, 65, 67, 69, 71, 73, 75, 77, 79, 81, 83, 83, 83, 83, 83, 83, 83, 83, 83, 83, 83, 83, 83, 83, 83, 83, 83, 82, 80, 78, 76, 74, 72, 70, 68, 66, 64, 62, 60, 58, 56, 54, 52, 50, 48, 46, 44, 42, 40, 38, 36, 34, 32, 30, 28, 26, 24, 22, 20, 18, 17, 17, 17, 17, 17, 17, 17, 17, 17, 17, 17, 17, 17, 17, 17, 17, 17]\n"
     ]
    }
   ],
   "source": [
    "new_costs_x = []\n",
    "for pred in predictions_x:\n",
    "    pred_ = post_measurement(pred, find=\"2\", replace=\"1\")\n",
    "    new_costs_x.append(cost_function(pred_))\n",
    "\n",
    "print(new_costs_x)"
   ]
  },
  {
   "cell_type": "code",
   "execution_count": 124,
   "metadata": {},
   "outputs": [
    {
     "name": "stdout",
     "output_type": "stream",
     "text": [
      "17\n"
     ]
    }
   ],
   "source": [
    "print(min(new_costs_x))"
   ]
  },
  {
   "cell_type": "markdown",
   "metadata": {},
   "source": [
    "### Testing: Z matrix + grover matrix"
   ]
  },
  {
   "cell_type": "code",
   "execution_count": 105,
   "metadata": {},
   "outputs": [],
   "source": [
    "var_circ_z = simplify((z_matrix*qutrit_grover).subs(y, z))\n",
    "state_after_feature_map_z = simplify(z_matrix*qutrit_grover*init_state)\n",
    "\n",
    "costs_z = []\n",
    "predictions_z = []\n",
    "for i in range(z_values.size): \n",
    "    prediction = []\n",
    "    prediction = create_predictions_z_value(state_after_feature_map_z, var_circ_z, data, labels, z_values[i])\n",
    "    predictions_z.append(prediction)\n",
    "    costs_z.append(cost_function(prediction))"
   ]
  },
  {
   "cell_type": "code",
   "execution_count": 117,
   "metadata": {},
   "outputs": [
    {
     "name": "stdout",
     "output_type": "stream",
     "text": [
      "[50, 49, 48, 47, 46, 45, 44, 43, 42, 41, 40, 39, 38, 37, 36, 35, 34, 34, 35, 36, 37, 38, 39, 40, 41, 42, 43, 44, 45, 46, 47, 48, 49, 50, 52, 54, 56, 58, 60, 62, 64, 66, 68, 70, 72, 74, 76, 78, 80, 82, 84, 85, 86, 87, 88, 89, 90, 91, 92, 93, 94, 95, 96, 97, 98, 99, 100, 99, 98, 97, 96, 95, 94, 93, 92, 91, 90, 89, 88, 87, 86, 85, 84, 82, 80, 78, 76, 74, 72, 70, 68, 66, 64, 62, 60, 58, 56, 54, 52, 50]\n",
      "100\n",
      "Least cost without post processing is 34\n"
     ]
    }
   ],
   "source": [
    "print(costs_z)\n",
    "print(len(costs_z))\n",
    "print(\"Least cost without post processing is {}\".format(min(costs_z)))"
   ]
  },
  {
   "cell_type": "code",
   "execution_count": 118,
   "metadata": {},
   "outputs": [
    {
     "name": "stdout",
     "output_type": "stream",
     "text": [
      "16\n",
      "17\n",
      "The least cost 34 is corresponding to the variational circuit value of 1.0783838383838384\n"
     ]
    }
   ],
   "source": [
    "index = 0\n",
    "min_costs_z = min(costs_z)\n",
    "for i in range(len(costs_z)): \n",
    "    if costs_z[i] == min_costs_z: \n",
    "        print(i)\n",
    "        index=i\n",
    "print(\"The least cost {} is corresponding to the variational circuit value of {}\".format(min_costs_z,z_values[index]))\n"
   ]
  },
  {
   "cell_type": "code",
   "execution_count": 119,
   "metadata": {},
   "outputs": [
    {
     "name": "stdout",
     "output_type": "stream",
     "text": [
      "[17, 17, 17, 17, 17, 17, 17, 17, 17, 17, 17, 17, 17, 17, 17, 17, 17, 18, 20, 22, 24, 26, 28, 30, 32, 34, 36, 38, 40, 42, 44, 46, 48, 50, 52, 54, 56, 58, 60, 62, 64, 66, 68, 70, 72, 74, 76, 78, 80, 82, 83, 83, 83, 83, 83, 83, 83, 83, 83, 83, 83, 83, 83, 83, 83, 83, 83, 81, 79, 77, 75, 73, 71, 69, 67, 65, 63, 61, 59, 57, 55, 53, 51, 49, 47, 45, 43, 41, 39, 37, 35, 33, 31, 29, 27, 25, 23, 21, 19, 17]\n"
     ]
    }
   ],
   "source": [
    "new_costs_z = []\n",
    "for pred in predictions_z:\n",
    "    pred_ = post_measurement(pred)\n",
    "    new_costs_z.append(cost_function(pred_))\n",
    "\n",
    "print(new_costs_z)"
   ]
  },
  {
   "cell_type": "code",
   "execution_count": 120,
   "metadata": {
    "scrolled": true
   },
   "outputs": [
    {
     "name": "stdout",
     "output_type": "stream",
     "text": [
      "17\n"
     ]
    }
   ],
   "source": [
    "print(min(new_costs_z))"
   ]
  },
  {
   "cell_type": "markdown",
   "metadata": {},
   "source": [
    "### Testing: Qubit case, H + ry gate var circuit"
   ]
  },
  {
   "cell_type": "code",
   "execution_count": 91,
   "metadata": {},
   "outputs": [
    {
     "data": {
      "text/latex": [
       "$\\displaystyle \\left[\\begin{matrix}\\cos{\\left(\\frac{y}{2} + \\frac{\\pi}{4} \\right)}\\\\\\sin{\\left(\\frac{y}{2} + \\frac{\\pi}{4} \\right)}\\end{matrix}\\right]$"
      ],
      "text/plain": [
       "Matrix([\n",
       "[cos(y/2 + pi/4)],\n",
       "[sin(y/2 + pi/4)]])"
      ]
     },
     "execution_count": 91,
     "metadata": {},
     "output_type": "execute_result"
    }
   ],
   "source": [
    "state_after_feature_map = simplify(ry*qubit_h*init_state_qubit)\n",
    "var_circuit = simplify((ry*qubit_h).subs(y, z))\n",
    "state_after_feature_map"
   ]
  },
  {
   "cell_type": "code",
   "execution_count": 92,
   "metadata": {},
   "outputs": [
    {
     "data": {
      "text/latex": [
       "$\\displaystyle \\left[\\begin{matrix}\\cos{\\left(\\frac{z}{2} + \\frac{\\pi}{4} \\right)} & \\sin{\\left(\\frac{z}{2} + \\frac{\\pi}{4} \\right)}\\\\\\sin{\\left(\\frac{z}{2} + \\frac{\\pi}{4} \\right)} & - \\cos{\\left(\\frac{z}{2} + \\frac{\\pi}{4} \\right)}\\end{matrix}\\right]$"
      ],
      "text/plain": [
       "Matrix([\n",
       "[cos(z/2 + pi/4),  sin(z/2 + pi/4)],\n",
       "[sin(z/2 + pi/4), -cos(z/2 + pi/4)]])"
      ]
     },
     "execution_count": 92,
     "metadata": {},
     "output_type": "execute_result"
    }
   ],
   "source": [
    "var_circuit"
   ]
  },
  {
   "cell_type": "code",
   "execution_count": 93,
   "metadata": {},
   "outputs": [],
   "source": [
    "costs_qubit = []\n",
    "predictions_qubit = []\n",
    "for i in range(z_values.size): \n",
    "    prediction = []\n",
    "    prediction = create_predictions_z_value(state_after_feature_map, var_circuit, data, labels, z_values[i], is_qubit=True)\n",
    "    predictions_qubit.append(prediction)\n",
    "    costs_qubit.append(cost_function(prediction))"
   ]
  },
  {
   "cell_type": "code",
   "execution_count": 95,
   "metadata": {},
   "outputs": [
    {
     "name": "stdout",
     "output_type": "stream",
     "text": [
      "[50, 48, 46, 44, 42, 40, 38, 36, 34, 32, 30, 28, 26, 24, 22, 20, 18, 16, 14, 12, 10, 8, 6, 4, 2, 1, 3, 5, 7, 9, 11, 13, 15, 17, 19, 21, 23, 25, 27, 29, 31, 33, 35, 37, 39, 41, 43, 45, 47, 49, 51, 53, 55, 57, 59, 61, 63, 65, 67, 69, 71, 73, 75, 77, 79, 81, 83, 85, 87, 89, 91, 93, 95, 97, 99, 98, 96, 94, 92, 90, 88, 86, 84, 82, 80, 78, 76, 74, 72, 70, 68, 66, 64, 62, 60, 58, 56, 54, 52, 50]\n",
      "100\n",
      "Least cost without post processing is 1\n"
     ]
    }
   ],
   "source": [
    "print(costs_qubit)\n",
    "print(len(costs_qubit))\n",
    "print(\"Least cost without post processing is {}\".format(min(costs_qubit)))"
   ]
  }
 ],
 "metadata": {
  "kernelspec": {
   "display_name": "Python 3",
   "language": "python",
   "name": "python3"
  },
  "language_info": {
   "codemirror_mode": {
    "name": "ipython",
    "version": 3
   },
   "file_extension": ".py",
   "mimetype": "text/x-python",
   "name": "python",
   "nbconvert_exporter": "python",
   "pygments_lexer": "ipython3",
   "version": "3.8.1"
  }
 },
 "nbformat": 4,
 "nbformat_minor": 4
}
